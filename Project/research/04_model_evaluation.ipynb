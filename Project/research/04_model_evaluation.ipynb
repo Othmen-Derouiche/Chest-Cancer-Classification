{
 "cells": [
  {
   "cell_type": "code",
   "execution_count": 1,
   "metadata": {},
   "outputs": [],
   "source": [
    "import os"
   ]
  },
  {
   "cell_type": "code",
   "execution_count": 3,
   "metadata": {},
   "outputs": [
    {
     "name": "stdout",
     "output_type": "stream",
     "text": [
      "/home/asus/Documents/Chest-Cancer-Classification/Project\n"
     ]
    }
   ],
   "source": [
    "cd ../"
   ]
  },
  {
   "cell_type": "code",
   "execution_count": 4,
   "metadata": {},
   "outputs": [
    {
     "data": {
      "text/plain": [
       "'/home/asus/Documents/Chest-Cancer-Classification/Project'"
      ]
     },
     "execution_count": 4,
     "metadata": {},
     "output_type": "execute_result"
    }
   ],
   "source": [
    "%pwd"
   ]
  },
  {
   "cell_type": "code",
   "execution_count": 5,
   "metadata": {},
   "outputs": [
    {
     "name": "stdout",
     "output_type": "stream",
     "text": [
      "Requirement already satisfied: dagshub in /home/asus/.local/lib/python3.8/site-packages (0.3.35)\n",
      "Requirement already satisfied: tenacity~=8.2.3 in /home/asus/.local/lib/python3.8/site-packages (from dagshub) (8.2.3)\n",
      "Requirement already satisfied: boto3 in /home/asus/.local/lib/python3.8/site-packages (from dagshub) (1.35.7)\n",
      "Requirement already satisfied: pathvalidate~=3.0.0 in /home/asus/.local/lib/python3.8/site-packages (from dagshub) (3.0.0)\n",
      "Requirement already satisfied: dataclasses-json in /home/asus/.local/lib/python3.8/site-packages (from dagshub) (0.6.7)\n",
      "Requirement already satisfied: click>=8.0.4 in /home/asus/.local/lib/python3.8/site-packages (from dagshub) (8.1.3)\n",
      "Requirement already satisfied: dacite~=1.6.0 in /home/asus/.local/lib/python3.8/site-packages (from dagshub) (1.6.0)\n",
      "Requirement already satisfied: rich~=13.1.0 in /home/asus/.local/lib/python3.8/site-packages (from dagshub) (13.1.0)\n",
      "Requirement already satisfied: appdirs>=1.4.4 in /home/asus/.local/lib/python3.8/site-packages (from dagshub) (1.4.4)\n",
      "Requirement already satisfied: fusepy>=3 in /home/asus/.local/lib/python3.8/site-packages (from dagshub) (3.0.1)\n",
      "Requirement already satisfied: PyYAML>=5 in /usr/lib/python3/dist-packages (from dagshub) (5.3.1)\n",
      "Requirement already satisfied: gql[requests] in /home/asus/.local/lib/python3.8/site-packages (from dagshub) (3.5.0)\n",
      "Requirement already satisfied: pandas in /home/asus/.local/lib/python3.8/site-packages (from dagshub) (2.0.3)\n",
      "Requirement already satisfied: treelib~=1.6.4 in /home/asus/.local/lib/python3.8/site-packages (from dagshub) (1.6.4)\n",
      "Requirement already satisfied: python-dateutil in /home/asus/.local/lib/python3.8/site-packages (from dagshub) (2.8.2)\n",
      "Requirement already satisfied: dagshub-annotation-converter>=0.1.0 in /home/asus/.local/lib/python3.8/site-packages (from dagshub) (0.1.0)\n",
      "Requirement already satisfied: GitPython>=3.1.29 in /home/asus/.local/lib/python3.8/site-packages (from dagshub) (3.1.43)\n",
      "Requirement already satisfied: httpx~=0.23.0 in /home/asus/.local/lib/python3.8/site-packages (from dagshub) (0.23.3)\n",
      "Requirement already satisfied: s3transfer<0.11.0,>=0.10.0 in /home/asus/.local/lib/python3.8/site-packages (from boto3->dagshub) (0.10.2)\n",
      "Requirement already satisfied: jmespath<2.0.0,>=0.7.1 in /home/asus/.local/lib/python3.8/site-packages (from boto3->dagshub) (1.0.1)\n",
      "Requirement already satisfied: botocore<1.36.0,>=1.35.7 in /home/asus/.local/lib/python3.8/site-packages (from boto3->dagshub) (1.35.7)\n",
      "Requirement already satisfied: marshmallow<4.0.0,>=3.18.0 in /home/asus/.local/lib/python3.8/site-packages (from dataclasses-json->dagshub) (3.22.0)\n",
      "Requirement already satisfied: typing-inspect<1,>=0.4.0 in /home/asus/.local/lib/python3.8/site-packages (from dataclasses-json->dagshub) (0.9.0)\n",
      "Requirement already satisfied: commonmark<0.10.0,>=0.9.0 in /home/asus/.local/lib/python3.8/site-packages (from rich~=13.1.0->dagshub) (0.9.1)\n",
      "Requirement already satisfied: pygments<3.0.0,>=2.6.0 in /home/asus/.local/lib/python3.8/site-packages (from rich~=13.1.0->dagshub) (2.18.0)\n",
      "Requirement already satisfied: typing-extensions<5.0,>=4.0.0; python_version < \"3.9\" in /home/asus/.local/lib/python3.8/site-packages (from rich~=13.1.0->dagshub) (4.5.0)\n",
      "Requirement already satisfied: graphql-core<3.3,>=3.2 in /home/asus/.local/lib/python3.8/site-packages (from gql[requests]->dagshub) (3.2.3)\n",
      "Requirement already satisfied: anyio<5,>=3.0 in /home/asus/.local/lib/python3.8/site-packages (from gql[requests]->dagshub) (4.4.0)\n",
      "Requirement already satisfied: backoff<3.0,>=1.11.1 in /home/asus/.local/lib/python3.8/site-packages (from gql[requests]->dagshub) (2.2.1)\n",
      "Requirement already satisfied: yarl<2.0,>=1.6 in /home/asus/.local/lib/python3.8/site-packages (from gql[requests]->dagshub) (1.9.4)\n",
      "Requirement already satisfied: requests<3,>=2.26; extra == \"requests\" in /home/asus/.local/lib/python3.8/site-packages (from gql[requests]->dagshub) (2.26.0)\n",
      "Requirement already satisfied: requests-toolbelt<2,>=1.0.0; extra == \"requests\" in /home/asus/.local/lib/python3.8/site-packages (from gql[requests]->dagshub) (1.0.0)\n",
      "Requirement already satisfied: pytz>=2020.1 in /home/asus/.local/lib/python3.8/site-packages (from pandas->dagshub) (2020.1)\n",
      "Requirement already satisfied: numpy>=1.20.3; python_version < \"3.10\" in /home/asus/.local/lib/python3.8/site-packages (from pandas->dagshub) (1.24.3)\n",
      "Requirement already satisfied: tzdata>=2022.1 in /home/asus/.local/lib/python3.8/site-packages (from pandas->dagshub) (2024.1)\n",
      "Requirement already satisfied: six in /usr/lib/python3/dist-packages (from treelib~=1.6.4->dagshub) (1.14.0)\n",
      "Requirement already satisfied: pillow in /usr/lib/python3/dist-packages (from dagshub-annotation-converter>=0.1.0->dagshub) (7.0.0)\n",
      "Requirement already satisfied: pydantic>=2.0.0 in /home/asus/.local/lib/python3.8/site-packages (from dagshub-annotation-converter>=0.1.0->dagshub) (2.8.2)\n",
      "Requirement already satisfied: lxml in /home/asus/.local/lib/python3.8/site-packages (from dagshub-annotation-converter>=0.1.0->dagshub) (5.3.0)\n",
      "Requirement already satisfied: gitdb<5,>=4.0.1 in /home/asus/.local/lib/python3.8/site-packages (from GitPython>=3.1.29->dagshub) (4.0.11)\n",
      "Requirement already satisfied: rfc3986[idna2008]<2,>=1.3 in /home/asus/.local/lib/python3.8/site-packages (from httpx~=0.23.0->dagshub) (1.5.0)\n",
      "Requirement already satisfied: certifi in /usr/lib/python3/dist-packages (from httpx~=0.23.0->dagshub) (2019.11.28)\n",
      "Requirement already satisfied: sniffio in /home/asus/.local/lib/python3.8/site-packages (from httpx~=0.23.0->dagshub) (1.3.1)\n",
      "Requirement already satisfied: httpcore<0.17.0,>=0.15.0 in /home/asus/.local/lib/python3.8/site-packages (from httpx~=0.23.0->dagshub) (0.16.3)\n",
      "Requirement already satisfied: urllib3<1.27,>=1.25.4; python_version < \"3.10\" in /home/asus/.local/lib/python3.8/site-packages (from botocore<1.36.0,>=1.35.7->boto3->dagshub) (1.26.19)\n",
      "Requirement already satisfied: packaging>=17.0 in /home/asus/.local/lib/python3.8/site-packages (from marshmallow<4.0.0,>=3.18.0->dataclasses-json->dagshub) (23.2)\n",
      "Requirement already satisfied: mypy-extensions>=0.3.0 in /home/asus/.local/lib/python3.8/site-packages (from typing-inspect<1,>=0.4.0->dataclasses-json->dagshub) (1.0.0)\n",
      "Requirement already satisfied: exceptiongroup>=1.0.2; python_version < \"3.11\" in /home/asus/.local/lib/python3.8/site-packages (from anyio<5,>=3.0->gql[requests]->dagshub) (1.2.2)\n",
      "Requirement already satisfied: idna>=2.8 in /usr/lib/python3/dist-packages (from anyio<5,>=3.0->gql[requests]->dagshub) (2.8)\n",
      "Requirement already satisfied: multidict>=4.0 in /home/asus/.local/lib/python3.8/site-packages (from yarl<2.0,>=1.6->gql[requests]->dagshub) (6.0.5)\n",
      "Requirement already satisfied: charset-normalizer~=2.0.0; python_version >= \"3\" in /home/asus/.local/lib/python3.8/site-packages (from requests<3,>=2.26; extra == \"requests\"->gql[requests]->dagshub) (2.0.12)\n",
      "Requirement already satisfied: annotated-types>=0.4.0 in /home/asus/.local/lib/python3.8/site-packages (from pydantic>=2.0.0->dagshub-annotation-converter>=0.1.0->dagshub) (0.7.0)\n",
      "Requirement already satisfied: pydantic-core==2.20.1 in /home/asus/.local/lib/python3.8/site-packages (from pydantic>=2.0.0->dagshub-annotation-converter>=0.1.0->dagshub) (2.20.1)\n",
      "Requirement already satisfied: smmap<6,>=3.0.1 in /home/asus/.local/lib/python3.8/site-packages (from gitdb<5,>=4.0.1->GitPython>=3.1.29->dagshub) (5.0.1)\n",
      "Requirement already satisfied: h11<0.15,>=0.13 in /home/asus/.local/lib/python3.8/site-packages (from httpcore<0.17.0,>=0.15.0->httpx~=0.23.0->dagshub) (0.14.0)\n"
     ]
    }
   ],
   "source": [
    "!pip install dagshub"
   ]
  },
  {
   "cell_type": "code",
   "execution_count": 6,
   "metadata": {},
   "outputs": [
    {
     "data": {
      "text/html": [
       "<pre style=\"white-space:pre;overflow-x:auto;line-height:normal;font-family:Menlo,'DejaVu Sans Mono',consolas,'Courier New',monospace\">Accessing as Othmen-Derouiche\n",
       "</pre>\n"
      ],
      "text/plain": [
       "Accessing as Othmen-Derouiche\n"
      ]
     },
     "metadata": {},
     "output_type": "display_data"
    },
    {
     "data": {
      "text/html": [
       "<pre style=\"white-space:pre;overflow-x:auto;line-height:normal;font-family:Menlo,'DejaVu Sans Mono',consolas,'Courier New',monospace\">Initialized MLflow to track repo <span style=\"color: #008000; text-decoration-color: #008000\">\"Othmen-Derouiche/Chest-Cancer-Classification\"</span>\n",
       "</pre>\n"
      ],
      "text/plain": [
       "Initialized MLflow to track repo \u001b[32m\"Othmen-Derouiche/Chest-Cancer-Classification\"\u001b[0m\n"
      ]
     },
     "metadata": {},
     "output_type": "display_data"
    },
    {
     "data": {
      "text/html": [
       "<pre style=\"white-space:pre;overflow-x:auto;line-height:normal;font-family:Menlo,'DejaVu Sans Mono',consolas,'Courier New',monospace\">Repository Othmen-Derouiche/Chest-Cancer-Classification initialized!\n",
       "</pre>\n"
      ],
      "text/plain": [
       "Repository Othmen-Derouiche/Chest-Cancer-Classification initialized!\n"
      ]
     },
     "metadata": {},
     "output_type": "display_data"
    }
   ],
   "source": [
    "import dagshub\n",
    "dagshub.init(repo_owner='Othmen-Derouiche', repo_name='Chest-Cancer-Classification', mlflow=True)\n"
   ]
  },
  {
   "cell_type": "code",
   "execution_count": 7,
   "metadata": {},
   "outputs": [
    {
     "name": "stdout",
     "output_type": "stream",
     "text": [
      "Requirement already satisfied: ipywidgets in /home/asus/.local/lib/python3.8/site-packages (8.1.5)\n",
      "Requirement already satisfied: jupyterlab-widgets~=3.0.12 in /home/asus/.local/lib/python3.8/site-packages (from ipywidgets) (3.0.13)\n",
      "Requirement already satisfied: ipython>=6.1.0 in /home/asus/.local/lib/python3.8/site-packages (from ipywidgets) (8.12.3)\n",
      "Requirement already satisfied: widgetsnbextension~=4.0.12 in /home/asus/.local/lib/python3.8/site-packages (from ipywidgets) (4.0.13)\n",
      "Requirement already satisfied: traitlets>=4.3.1 in /home/asus/.local/lib/python3.8/site-packages (from ipywidgets) (5.14.3)\n",
      "Requirement already satisfied: comm>=0.1.3 in /home/asus/.local/lib/python3.8/site-packages (from ipywidgets) (0.2.2)\n",
      "Requirement already satisfied: typing-extensions; python_version < \"3.10\" in /home/asus/.local/lib/python3.8/site-packages (from ipython>=6.1.0->ipywidgets) (4.5.0)\n",
      "Requirement already satisfied: jedi>=0.16 in /home/asus/.local/lib/python3.8/site-packages (from ipython>=6.1.0->ipywidgets) (0.19.1)\n",
      "Requirement already satisfied: prompt-toolkit!=3.0.37,<3.1.0,>=3.0.30 in /home/asus/.local/lib/python3.8/site-packages (from ipython>=6.1.0->ipywidgets) (3.0.47)\n",
      "Requirement already satisfied: pickleshare in /home/asus/.local/lib/python3.8/site-packages (from ipython>=6.1.0->ipywidgets) (0.7.5)\n",
      "Requirement already satisfied: stack-data in /home/asus/.local/lib/python3.8/site-packages (from ipython>=6.1.0->ipywidgets) (0.6.3)\n",
      "Requirement already satisfied: backcall in /home/asus/.local/lib/python3.8/site-packages (from ipython>=6.1.0->ipywidgets) (0.2.0)\n",
      "Requirement already satisfied: pexpect>4.3; sys_platform != \"win32\" in /usr/lib/python3/dist-packages (from ipython>=6.1.0->ipywidgets) (4.6.0)\n",
      "Requirement already satisfied: decorator in /home/asus/.local/lib/python3.8/site-packages (from ipython>=6.1.0->ipywidgets) (5.1.1)\n",
      "Requirement already satisfied: matplotlib-inline in /home/asus/.local/lib/python3.8/site-packages (from ipython>=6.1.0->ipywidgets) (0.1.7)\n",
      "Requirement already satisfied: pygments>=2.4.0 in /home/asus/.local/lib/python3.8/site-packages (from ipython>=6.1.0->ipywidgets) (2.18.0)\n",
      "Requirement already satisfied: parso<0.9.0,>=0.8.3 in /home/asus/.local/lib/python3.8/site-packages (from jedi>=0.16->ipython>=6.1.0->ipywidgets) (0.8.4)\n",
      "Requirement already satisfied: wcwidth in /home/asus/.local/lib/python3.8/site-packages (from prompt-toolkit!=3.0.37,<3.1.0,>=3.0.30->ipython>=6.1.0->ipywidgets) (0.2.13)\n",
      "Requirement already satisfied: pure-eval in /home/asus/.local/lib/python3.8/site-packages (from stack-data->ipython>=6.1.0->ipywidgets) (0.2.3)\n",
      "Requirement already satisfied: asttokens>=2.1.0 in /home/asus/.local/lib/python3.8/site-packages (from stack-data->ipython>=6.1.0->ipywidgets) (2.4.1)\n",
      "Requirement already satisfied: executing>=1.2.0 in /home/asus/.local/lib/python3.8/site-packages (from stack-data->ipython>=6.1.0->ipywidgets) (2.0.1)\n",
      "Requirement already satisfied: six>=1.12.0 in /usr/lib/python3/dist-packages (from asttokens>=2.1.0->stack-data->ipython>=6.1.0->ipywidgets) (1.14.0)\n"
     ]
    }
   ],
   "source": [
    "!pip install ipywidgets"
   ]
  },
  {
   "cell_type": "code",
   "execution_count": 8,
   "metadata": {},
   "outputs": [],
   "source": [
    "import ipywidgets"
   ]
  },
  {
   "cell_type": "code",
   "execution_count": 9,
   "metadata": {},
   "outputs": [],
   "source": [
    "os.environ[\"MLFLOW_TRACKING_URI\"]=\"https://dagshub.com/Othmen-Derouiche/Chest-Cancer-Classification.mlflow\"\n",
    "\n"
   ]
  },
  {
   "cell_type": "code",
   "execution_count": 9,
   "metadata": {},
   "outputs": [
    {
     "name": "stdout",
     "output_type": "stream",
     "text": [
      "Requirement already satisfied: tensorflow in /home/asus/.local/lib/python3.8/site-packages (2.13.1)\n",
      "Requirement already satisfied: tensorboard<2.14,>=2.13 in /home/asus/.local/lib/python3.8/site-packages (from tensorflow) (2.13.0)\n",
      "Requirement already satisfied: grpcio<2.0,>=1.24.3 in /home/asus/.local/lib/python3.8/site-packages (from tensorflow) (1.66.0)\n",
      "Requirement already satisfied: tensorflow-estimator<2.14,>=2.13.0 in /home/asus/.local/lib/python3.8/site-packages (from tensorflow) (2.13.0)\n",
      "Requirement already satisfied: wrapt>=1.11.0 in /home/asus/.local/lib/python3.8/site-packages (from tensorflow) (1.16.0)\n",
      "Requirement already satisfied: absl-py>=1.0.0 in /home/asus/.local/lib/python3.8/site-packages (from tensorflow) (2.1.0)\n",
      "Requirement already satisfied: gast<=0.4.0,>=0.2.1 in /home/asus/.local/lib/python3.8/site-packages (from tensorflow) (0.4.0)\n",
      "Requirement already satisfied: termcolor>=1.1.0 in /home/asus/.local/lib/python3.8/site-packages (from tensorflow) (2.4.0)\n",
      "Requirement already satisfied: google-pasta>=0.1.1 in /home/asus/.local/lib/python3.8/site-packages (from tensorflow) (0.2.0)\n",
      "Requirement already satisfied: packaging in /home/asus/.local/lib/python3.8/site-packages (from tensorflow) (23.2)\n",
      "Requirement already satisfied: tensorflow-io-gcs-filesystem>=0.23.1; platform_machine != \"arm64\" or platform_system != \"Darwin\" in /home/asus/.local/lib/python3.8/site-packages (from tensorflow) (0.34.0)\n",
      "Requirement already satisfied: protobuf!=4.21.0,!=4.21.1,!=4.21.2,!=4.21.3,!=4.21.4,!=4.21.5,<5.0.0dev,>=3.20.3 in /home/asus/.local/lib/python3.8/site-packages (from tensorflow) (4.25.4)\n",
      "Requirement already satisfied: flatbuffers>=23.1.21 in /home/asus/.local/lib/python3.8/site-packages (from tensorflow) (24.3.25)\n",
      "Requirement already satisfied: numpy<=1.24.3,>=1.22 in /home/asus/.local/lib/python3.8/site-packages (from tensorflow) (1.24.3)\n",
      "Requirement already satisfied: setuptools in /usr/lib/python3/dist-packages (from tensorflow) (45.2.0)\n",
      "Requirement already satisfied: opt-einsum>=2.3.2 in /home/asus/.local/lib/python3.8/site-packages (from tensorflow) (3.3.0)\n",
      "Requirement already satisfied: h5py>=2.9.0 in /home/asus/.local/lib/python3.8/site-packages (from tensorflow) (3.11.0)\n",
      "Requirement already satisfied: six>=1.12.0 in /usr/lib/python3/dist-packages (from tensorflow) (1.14.0)\n",
      "Requirement already satisfied: astunparse>=1.6.0 in /home/asus/.local/lib/python3.8/site-packages (from tensorflow) (1.6.3)\n",
      "Requirement already satisfied: typing-extensions<4.6.0,>=3.6.6 in /home/asus/.local/lib/python3.8/site-packages (from tensorflow) (4.5.0)\n",
      "Requirement already satisfied: libclang>=13.0.0 in /home/asus/.local/lib/python3.8/site-packages (from tensorflow) (18.1.1)\n",
      "Requirement already satisfied: keras<2.14,>=2.13.1 in /home/asus/.local/lib/python3.8/site-packages (from tensorflow) (2.13.1)\n",
      "Requirement already satisfied: wheel>=0.26 in /usr/lib/python3/dist-packages (from tensorboard<2.14,>=2.13->tensorflow) (0.34.2)\n",
      "Requirement already satisfied: google-auth<3,>=1.6.3 in /home/asus/.local/lib/python3.8/site-packages (from tensorboard<2.14,>=2.13->tensorflow) (2.34.0)\n",
      "Requirement already satisfied: markdown>=2.6.8 in /home/asus/.local/lib/python3.8/site-packages (from tensorboard<2.14,>=2.13->tensorflow) (3.7)\n",
      "Requirement already satisfied: werkzeug>=1.0.1 in /home/asus/.local/lib/python3.8/site-packages (from tensorboard<2.14,>=2.13->tensorflow) (3.0.4)\n",
      "Requirement already satisfied: google-auth-oauthlib<1.1,>=0.5 in /home/asus/.local/lib/python3.8/site-packages (from tensorboard<2.14,>=2.13->tensorflow) (1.0.0)\n",
      "Requirement already satisfied: requests<3,>=2.21.0 in /home/asus/.local/lib/python3.8/site-packages (from tensorboard<2.14,>=2.13->tensorflow) (2.26.0)\n",
      "Requirement already satisfied: tensorboard-data-server<0.8.0,>=0.7.0 in /home/asus/.local/lib/python3.8/site-packages (from tensorboard<2.14,>=2.13->tensorflow) (0.7.2)\n",
      "Requirement already satisfied: rsa<5,>=3.1.4 in /home/asus/.local/lib/python3.8/site-packages (from google-auth<3,>=1.6.3->tensorboard<2.14,>=2.13->tensorflow) (4.9)\n",
      "Requirement already satisfied: cachetools<6.0,>=2.0.0 in /home/asus/.local/lib/python3.8/site-packages (from google-auth<3,>=1.6.3->tensorboard<2.14,>=2.13->tensorflow) (5.5.0)\n",
      "Requirement already satisfied: pyasn1-modules>=0.2.1 in /home/asus/.local/lib/python3.8/site-packages (from google-auth<3,>=1.6.3->tensorboard<2.14,>=2.13->tensorflow) (0.4.0)\n",
      "Requirement already satisfied: importlib-metadata>=4.4; python_version < \"3.10\" in /home/asus/.local/lib/python3.8/site-packages (from markdown>=2.6.8->tensorboard<2.14,>=2.13->tensorflow) (6.11.0)\n",
      "Requirement already satisfied: MarkupSafe>=2.1.1 in /home/asus/.local/lib/python3.8/site-packages (from werkzeug>=1.0.1->tensorboard<2.14,>=2.13->tensorflow) (2.1.5)\n",
      "Requirement already satisfied: requests-oauthlib>=0.7.0 in /home/asus/.local/lib/python3.8/site-packages (from google-auth-oauthlib<1.1,>=0.5->tensorboard<2.14,>=2.13->tensorflow) (2.0.0)\n",
      "Requirement already satisfied: urllib3<1.27,>=1.21.1 in /home/asus/.local/lib/python3.8/site-packages (from requests<3,>=2.21.0->tensorboard<2.14,>=2.13->tensorflow) (1.26.19)\n",
      "Requirement already satisfied: charset-normalizer~=2.0.0; python_version >= \"3\" in /home/asus/.local/lib/python3.8/site-packages (from requests<3,>=2.21.0->tensorboard<2.14,>=2.13->tensorflow) (2.0.12)\n",
      "Requirement already satisfied: idna<4,>=2.5; python_version >= \"3\" in /usr/lib/python3/dist-packages (from requests<3,>=2.21.0->tensorboard<2.14,>=2.13->tensorflow) (2.8)\n",
      "Requirement already satisfied: certifi>=2017.4.17 in /usr/lib/python3/dist-packages (from requests<3,>=2.21.0->tensorboard<2.14,>=2.13->tensorflow) (2019.11.28)\n",
      "Requirement already satisfied: pyasn1>=0.1.3 in /home/asus/.local/lib/python3.8/site-packages (from rsa<5,>=3.1.4->google-auth<3,>=1.6.3->tensorboard<2.14,>=2.13->tensorflow) (0.6.0)\n",
      "Requirement already satisfied: zipp>=0.5 in /home/asus/.local/lib/python3.8/site-packages (from importlib-metadata>=4.4; python_version < \"3.10\"->markdown>=2.6.8->tensorboard<2.14,>=2.13->tensorflow) (3.20.0)\n",
      "Requirement already satisfied: oauthlib>=3.0.0 in /usr/lib/python3/dist-packages (from requests-oauthlib>=0.7.0->google-auth-oauthlib<1.1,>=0.5->tensorboard<2.14,>=2.13->tensorflow) (3.1.0)\n"
     ]
    }
   ],
   "source": [
    "!pip install tensorflow"
   ]
  },
  {
   "cell_type": "code",
   "execution_count": 10,
   "metadata": {},
   "outputs": [
    {
     "name": "stderr",
     "output_type": "stream",
     "text": [
      "2024-08-29 13:05:31.438247: I tensorflow/tsl/cuda/cudart_stub.cc:28] Could not find cuda drivers on your machine, GPU will not be used.\n",
      "2024-08-29 13:05:31.496165: I tensorflow/tsl/cuda/cudart_stub.cc:28] Could not find cuda drivers on your machine, GPU will not be used.\n",
      "2024-08-29 13:05:31.497265: I tensorflow/core/platform/cpu_feature_guard.cc:182] This TensorFlow binary is optimized to use available CPU instructions in performance-critical operations.\n",
      "To enable the following instructions: AVX2 FMA, in other operations, rebuild TensorFlow with the appropriate compiler flags.\n",
      "2024-08-29 13:05:32.488618: W tensorflow/compiler/tf2tensorrt/utils/py_utils.cc:38] TF-TRT Warning: Could not find TensorRT\n"
     ]
    }
   ],
   "source": [
    "import tensorflow as tf"
   ]
  },
  {
   "cell_type": "code",
   "execution_count": 11,
   "metadata": {},
   "outputs": [],
   "source": [
    "model = tf.keras.models.load_model(\"artifacts/training/model.h5\")"
   ]
  },
  {
   "cell_type": "markdown",
   "metadata": {},
   "source": [
    "## Update Entity "
   ]
  },
  {
   "cell_type": "code",
   "execution_count": 12,
   "metadata": {},
   "outputs": [],
   "source": [
    "from dataclasses import dataclass\n",
    "from pathlib import Path\n",
    "\n",
    "@dataclass(frozen=True)\n",
    "class EvaluationConfig:\n",
    "    path_of_model: Path\n",
    "    training_data: Path\n",
    "    all_params: dict\n",
    "    mlflow_uri: str\n",
    "    params_image_size: list\n",
    "    params_batch_size: int"
   ]
  },
  {
   "cell_type": "markdown",
   "metadata": {},
   "source": [
    "## Update Configuration"
   ]
  },
  {
   "cell_type": "code",
   "execution_count": 13,
   "metadata": {},
   "outputs": [],
   "source": [
    "from src.cnnClassifier.constants import *\n",
    "from src.cnnClassifier.utils.common import read_yaml, create_directories, save_json"
   ]
  },
  {
   "cell_type": "code",
   "execution_count": 14,
   "metadata": {},
   "outputs": [],
   "source": [
    "class ConfigurationManager:\n",
    "    def __init__(\n",
    "        self, \n",
    "        config_filepath = CONFIG_FILE_PATH,\n",
    "        params_filepath = PARAMS_FILE_PATH):\n",
    "        self.config = read_yaml(config_filepath)\n",
    "        self.params = read_yaml(params_filepath)\n",
    "        create_directories([self.config.artifacts_root])\n",
    "\n",
    "    \n",
    "    def get_evaluation_config(self) -> EvaluationConfig:\n",
    "        eval_config = EvaluationConfig(\n",
    "            path_of_model=\"artifacts/training/model.h5\",\n",
    "            training_data=\"artifacts/data_ingestion/Chest-CT-Scan-data\",\n",
    "            mlflow_uri=\"https://dagshub.com/Othmen-Derouiche/Chest-Cancer-Classification.mlflow\",\n",
    "            all_params=self.params,\n",
    "            params_image_size=self.params.IMAGE_SIZE,\n",
    "            params_batch_size=self.params.BATCH_SIZE\n",
    "        )\n",
    "        return eval_config"
   ]
  },
  {
   "cell_type": "markdown",
   "metadata": {},
   "source": [
    "## Update Component "
   ]
  },
  {
   "cell_type": "code",
   "execution_count": 15,
   "metadata": {},
   "outputs": [],
   "source": [
    "import tensorflow as tf\n",
    "from pathlib import Path\n",
    "import mlflow\n",
    "import mlflow.keras\n",
    "from urllib.parse import urlparse"
   ]
  },
  {
   "cell_type": "code",
   "execution_count": 17,
   "metadata": {},
   "outputs": [],
   "source": [
    "class Evaluation:\n",
    "    def __init__(self, config: EvaluationConfig):\n",
    "        self.config = config\n",
    "\n",
    "    \n",
    "    def _valid_generator(self):\n",
    "\n",
    "        datagenerator_kwargs = dict(\n",
    "            rescale = 1./255,\n",
    "            validation_split=0.30\n",
    "        )\n",
    "\n",
    "        dataflow_kwargs = dict(\n",
    "            target_size=self.config.params_image_size[:-1],\n",
    "            batch_size=self.config.params_batch_size,\n",
    "            interpolation=\"bilinear\"\n",
    "        )\n",
    "\n",
    "        valid_datagenerator = tf.keras.preprocessing.image.ImageDataGenerator(\n",
    "            **datagenerator_kwargs\n",
    "        )\n",
    "\n",
    "        self.valid_generator = valid_datagenerator.flow_from_directory(\n",
    "            directory=self.config.training_data,\n",
    "            subset=\"validation\",\n",
    "            shuffle=False,\n",
    "            **dataflow_kwargs\n",
    "        )\n",
    "\n",
    "\n",
    "    @staticmethod\n",
    "    def load_model(path: Path) -> tf.keras.Model:\n",
    "        return tf.keras.models.load_model(path)\n",
    "    \n",
    "\n",
    "    def evaluation(self):\n",
    "        self.model = self.load_model(self.config.path_of_model)\n",
    "        self._valid_generator()\n",
    "        self.score = model.evaluate(self.valid_generator)\n",
    "        self.save_score()\n",
    "\n",
    "    def save_score(self):\n",
    "        scores = {\"loss\": self.score[0], \"accuracy\": self.score[1]}\n",
    "        save_json(path=Path(\"scores.json\"), data=scores)\n",
    "\n",
    "    \n",
    "    def log_into_mlflow(self):\n",
    "        mlflow.set_registry_uri(self.config.mlflow_uri)\n",
    "        tracking_url_type_store = urlparse(mlflow.get_tracking_uri()).scheme\n",
    "        \n",
    "        with mlflow.start_run():\n",
    "            mlflow.log_params(self.config.all_params)\n",
    "            mlflow.log_metrics(\n",
    "                {\"loss\": self.score[0], \"accuracy\": self.score[1]}\n",
    "            )\n",
    "            # Model registry does not work with file store\n",
    "            if tracking_url_type_store != \"file\":\n",
    "\n",
    "                # Register the model\n",
    "                # There are other ways to use the Model Registry, which depends on the use case,\n",
    "                # please refer to the doc for more information:\n",
    "                # https://mlflow.org/docs/latest/model-registry.html#api-workflow\n",
    "                mlflow.keras.log_model(self.model, \"model\", registered_model_name=\"VGG19Model\")\n",
    "            else:\n",
    "                mlflow.keras.log_model(self.model, \"model\")\n"
   ]
  },
  {
   "cell_type": "code",
   "execution_count": 19,
   "metadata": {},
   "outputs": [],
   "source": [
    "import mlflow\n",
    "import tensorflow as tf\n",
    "\n",
    "# Patch the mlflow function\n",
    "def patched_save_model(model, path, conda_env=None, code_paths=None, mlflow_model=None, custom_objects=None,\n",
    "                       signature=None, input_example=None, pip_requirements=None, extra_pip_requirements=None,\n",
    "                       saved_model_kwargs=None, keras_model_kwargs=None, metadata=None):\n",
    "    from mlflow.models import Model\n",
    "    from mlflow import pyfunc\n",
    "    from mlflow.utils.environment import _mlflow_conda_env, _REQUIREMENTS_FILE_NAME\n",
    "    \n",
    "    if hasattr(tf.keras, '__version__'):\n",
    "        keras_version = tf.keras.__version__\n",
    "    else:\n",
    "        keras_version = tf.__version__\n",
    "\n",
    "    flavor_options = {\n",
    "        \"keras_version\": keras_version,\n",
    "        \"save_format\": \"h5\",\n",
    "    }\n",
    "\n",
    "    # rest of the original logic\n",
    "\n",
    "# Apply the patch\n",
    "mlflow.tensorflow.save_model = patched_save_model\n"
   ]
  },
  {
   "cell_type": "markdown",
   "metadata": {},
   "source": [
    "## Update Pipeline"
   ]
  },
  {
   "cell_type": "code",
   "execution_count": 20,
   "metadata": {},
   "outputs": [
    {
     "name": "stdout",
     "output_type": "stream",
     "text": [
      "[2024-08-29 13:05:54,088: INFO: common: yaml file: config/config.yaml loaded successfully]\n",
      "[2024-08-29 13:05:54,094: INFO: common: yaml file: params.yaml loaded successfully]\n",
      "[2024-08-29 13:05:54,095: INFO: common: created directory at: artifacts]\n",
      "Found 102 images belonging to 2 classes.\n",
      "7/7 [==============================] - 29s 4s/step - loss: 15.4506 - accuracy: 0.5686\n",
      "[2024-08-29 13:06:35,940: INFO: common: json file saved at: scores.json]\n"
     ]
    },
    {
     "name": "stderr",
     "output_type": "stream",
     "text": [
      "Registered model 'VGG19Model' already exists. Creating a new version of this model...\n",
      "2024/08/29 13:06:38 INFO mlflow.tracking._model_registry.client: Waiting up to 300 seconds for model version to finish creation.                     Model name: VGG19Model, version 4\n",
      "Created version '4' of model 'VGG19Model'.\n"
     ]
    }
   ],
   "source": [
    "try:\n",
    "    config = ConfigurationManager()\n",
    "    eval_config = config.get_evaluation_config()\n",
    "    evaluation = Evaluation(eval_config)\n",
    "    evaluation.evaluation()\n",
    "    evaluation.log_into_mlflow()\n",
    "\n",
    "except Exception as e:\n",
    "   raise e"
   ]
  }
 ],
 "metadata": {
  "kernelspec": {
   "display_name": "Python 3",
   "language": "python",
   "name": "python3"
  },
  "language_info": {
   "codemirror_mode": {
    "name": "ipython",
    "version": 3
   },
   "file_extension": ".py",
   "mimetype": "text/x-python",
   "name": "python",
   "nbconvert_exporter": "python",
   "pygments_lexer": "ipython3",
   "version": "3.8.10"
  }
 },
 "nbformat": 4,
 "nbformat_minor": 2
}
